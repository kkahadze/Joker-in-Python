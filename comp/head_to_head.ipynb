{
 "cells": [
  {
   "cell_type": "code",
   "execution_count": 1,
   "metadata": {},
   "outputs": [],
   "source": [
    "from agents.random_caller_random_player import RandomCallerRandomPlayer\n",
    "from agents.rule_based_bot import RuleBasedBot  \n",
    "from src.game import Game\n",
    "from src.utils import card_to_int"
   ]
  },
  {
   "cell_type": "code",
   "execution_count": 8,
   "metadata": {},
   "outputs": [
    {
     "name": "stdout",
     "output_type": "stream",
     "text": [
      "[-917.8, -339.4, -447.4, -446.5]\n"
     ]
    }
   ],
   "source": [
    "games = 1000\n",
    "total_scores = [0, 0, 0, 0]\n",
    "for i in range(games):\n",
    "    game = Game(players_in=[RuleBasedBot(0), RuleBasedBot(1), RuleBasedBot(2), RuleBasedBot(3)])\n",
    "    game.reset()\n",
    "    while not game.is_done():\n",
    "        game.step(card_to_int(game.players[0].play(game.to_obs())))\n",
    "\n",
    "    total_scores[0] += game.players[0].score\n",
    "    total_scores[1] += game.players[1].score\n",
    "    total_scores[2] += game.players[2].score\n",
    "    total_scores[3] += game.players[3].score\n",
    "\n",
    "\n",
    "# print the amount of points for all players\n",
    "print([(i / (games * 100)) for i in total_scores])"
   ]
  },
  {
   "cell_type": "code",
   "execution_count": 53,
   "metadata": {},
   "outputs": [
    {
     "name": "stdout",
     "output_type": "stream",
     "text": [
      "[-1.2782, -3.3467, -5.2157, -4.9806]\n"
     ]
    }
   ],
   "source": [
    "games = 1000\n",
    "total_scores = [0, 0, 0, 0]\n",
    "for i in range(games):\n",
    "    game = Game(players_in=[RandomCallerRandomPlayer(0), RandomCallerRandomPlayer(1), RandomCallerRandomPlayer(2), RandomCallerRandomPlayer(3)])\n",
    "    game.reset()\n",
    "    while not game.is_done():\n",
    "        game.step(card_to_int(game.players[0].play(game.to_obs())))\n",
    "\n",
    "    total_scores[0] += game.players[0].score\n",
    "    total_scores[1] += game.players[1].score\n",
    "    total_scores[2] += game.players[2].score\n",
    "    total_scores[3] += game.players[3].score\n",
    "\n",
    "\n",
    "# print the amount of points for all players\n",
    "print([(i / (games * 100)) for i in total_scores])"
   ]
  },
  {
   "cell_type": "code",
   "execution_count": null,
   "metadata": {},
   "outputs": [],
   "source": []
  }
 ],
 "metadata": {
  "kernelspec": {
   "display_name": "Python 3",
   "language": "python",
   "name": "python3"
  },
  "language_info": {
   "codemirror_mode": {
    "name": "ipython",
    "version": 3
   },
   "file_extension": ".py",
   "mimetype": "text/x-python",
   "name": "python",
   "nbconvert_exporter": "python",
   "pygments_lexer": "ipython3",
   "version": "3.10.11"
  },
  "orig_nbformat": 4
 },
 "nbformat": 4,
 "nbformat_minor": 2
}
