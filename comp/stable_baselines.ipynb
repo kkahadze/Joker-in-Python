{
 "cells": [
  {
   "cell_type": "code",
   "execution_count": 1,
   "metadata": {},
   "outputs": [
    {
     "name": "stdout",
     "output_type": "stream",
     "text": [
      "Using cpu device\n",
      "Wrapping the env with a `Monitor` wrapper\n",
      "Wrapping the env in a DummyVecEnv.\n"
     ]
    },
    {
     "name": "stderr",
     "output_type": "stream",
     "text": [
      "/opt/homebrew/lib/python3.11/site-packages/stable_baselines3/common/vec_env/patch_gym.py:49: UserWarning: You provided an OpenAI Gym environment. We strongly recommend transitioning to Gymnasium environments. Stable-Baselines3 is automatically wrapping your environments in a compatibility layer, which could potentially cause issues.\n",
      "  warnings.warn(\n"
     ]
    },
    {
     "ename": "AttributeError",
     "evalue": "'Box' object has no attribute 'spaces'",
     "output_type": "error",
     "traceback": [
      "\u001b[0;31m---------------------------------------------------------------------------\u001b[0m",
      "\u001b[0;31mAttributeError\u001b[0m                            Traceback (most recent call last)",
      "Cell \u001b[0;32mIn[1], line 7\u001b[0m\n\u001b[1;32m      4\u001b[0m \u001b[39mfrom\u001b[39;00m \u001b[39mstable_baselines3\u001b[39;00m \u001b[39mimport\u001b[39;00m A2C\n\u001b[1;32m      6\u001b[0m env \u001b[39m=\u001b[39m JokerEnv()\n\u001b[0;32m----> 7\u001b[0m model \u001b[39m=\u001b[39m A2C(\u001b[39m\"\u001b[39;49m\u001b[39mMultiInputPolicy\u001b[39;49m\u001b[39m\"\u001b[39;49m, env, verbose\u001b[39m=\u001b[39;49m\u001b[39m1\u001b[39;49m)\n\u001b[1;32m      8\u001b[0m model\u001b[39m.\u001b[39mlearn(total_timesteps\u001b[39m=\u001b[39m\u001b[39m10\u001b[39m)\n\u001b[1;32m     10\u001b[0m vec_env \u001b[39m=\u001b[39m model\u001b[39m.\u001b[39mget_env()\n",
      "File \u001b[0;32m/opt/homebrew/lib/python3.11/site-packages/stable_baselines3/a2c/a2c.py:123\u001b[0m, in \u001b[0;36mA2C.__init__\u001b[0;34m(self, policy, env, learning_rate, n_steps, gamma, gae_lambda, ent_coef, vf_coef, max_grad_norm, rms_prop_eps, use_rms_prop, use_sde, sde_sample_freq, normalize_advantage, stats_window_size, tensorboard_log, policy_kwargs, verbose, seed, device, _init_setup_model)\u001b[0m\n\u001b[1;32m    120\u001b[0m     \u001b[39mself\u001b[39m\u001b[39m.\u001b[39mpolicy_kwargs[\u001b[39m\"\u001b[39m\u001b[39moptimizer_kwargs\u001b[39m\u001b[39m\"\u001b[39m] \u001b[39m=\u001b[39m \u001b[39mdict\u001b[39m(alpha\u001b[39m=\u001b[39m\u001b[39m0.99\u001b[39m, eps\u001b[39m=\u001b[39mrms_prop_eps, weight_decay\u001b[39m=\u001b[39m\u001b[39m0\u001b[39m)\n\u001b[1;32m    122\u001b[0m \u001b[39mif\u001b[39;00m _init_setup_model:\n\u001b[0;32m--> 123\u001b[0m     \u001b[39mself\u001b[39;49m\u001b[39m.\u001b[39;49m_setup_model()\n",
      "File \u001b[0;32m/opt/homebrew/lib/python3.11/site-packages/stable_baselines3/common/on_policy_algorithm.py:123\u001b[0m, in \u001b[0;36mOnPolicyAlgorithm._setup_model\u001b[0;34m(self)\u001b[0m\n\u001b[1;32m    113\u001b[0m \u001b[39mself\u001b[39m\u001b[39m.\u001b[39mrollout_buffer \u001b[39m=\u001b[39m buffer_cls(\n\u001b[1;32m    114\u001b[0m     \u001b[39mself\u001b[39m\u001b[39m.\u001b[39mn_steps,\n\u001b[1;32m    115\u001b[0m     \u001b[39mself\u001b[39m\u001b[39m.\u001b[39mobservation_space,\n\u001b[0;32m   (...)\u001b[0m\n\u001b[1;32m    120\u001b[0m     n_envs\u001b[39m=\u001b[39m\u001b[39mself\u001b[39m\u001b[39m.\u001b[39mn_envs,\n\u001b[1;32m    121\u001b[0m )\n\u001b[1;32m    122\u001b[0m \u001b[39m# pytype:disable=not-instantiable\u001b[39;00m\n\u001b[0;32m--> 123\u001b[0m \u001b[39mself\u001b[39m\u001b[39m.\u001b[39mpolicy \u001b[39m=\u001b[39m \u001b[39mself\u001b[39;49m\u001b[39m.\u001b[39;49mpolicy_class(  \u001b[39m# type: ignore[assignment]\u001b[39;49;00m\n\u001b[1;32m    124\u001b[0m     \u001b[39mself\u001b[39;49m\u001b[39m.\u001b[39;49mobservation_space, \u001b[39mself\u001b[39;49m\u001b[39m.\u001b[39;49maction_space, \u001b[39mself\u001b[39;49m\u001b[39m.\u001b[39;49mlr_schedule, use_sde\u001b[39m=\u001b[39;49m\u001b[39mself\u001b[39;49m\u001b[39m.\u001b[39;49muse_sde, \u001b[39m*\u001b[39;49m\u001b[39m*\u001b[39;49m\u001b[39mself\u001b[39;49m\u001b[39m.\u001b[39;49mpolicy_kwargs\n\u001b[1;32m    125\u001b[0m )\n\u001b[1;32m    126\u001b[0m \u001b[39m# pytype:enable=not-instantiable\u001b[39;00m\n\u001b[1;32m    127\u001b[0m \u001b[39mself\u001b[39m\u001b[39m.\u001b[39mpolicy \u001b[39m=\u001b[39m \u001b[39mself\u001b[39m\u001b[39m.\u001b[39mpolicy\u001b[39m.\u001b[39mto(\u001b[39mself\u001b[39m\u001b[39m.\u001b[39mdevice)\n",
      "File \u001b[0;32m/opt/homebrew/lib/python3.11/site-packages/stable_baselines3/common/policies.py:853\u001b[0m, in \u001b[0;36mMultiInputActorCriticPolicy.__init__\u001b[0;34m(self, observation_space, action_space, lr_schedule, net_arch, activation_fn, ortho_init, use_sde, log_std_init, full_std, use_expln, squash_output, features_extractor_class, features_extractor_kwargs, share_features_extractor, normalize_images, optimizer_class, optimizer_kwargs)\u001b[0m\n\u001b[1;32m    833\u001b[0m \u001b[39mdef\u001b[39;00m \u001b[39m__init__\u001b[39m(\n\u001b[1;32m    834\u001b[0m     \u001b[39mself\u001b[39m,\n\u001b[1;32m    835\u001b[0m     observation_space: spaces\u001b[39m.\u001b[39mDict,\n\u001b[0;32m   (...)\u001b[0m\n\u001b[1;32m    851\u001b[0m     optimizer_kwargs: Optional[Dict[\u001b[39mstr\u001b[39m, Any]] \u001b[39m=\u001b[39m \u001b[39mNone\u001b[39;00m,\n\u001b[1;32m    852\u001b[0m ):\n\u001b[0;32m--> 853\u001b[0m     \u001b[39msuper\u001b[39;49m()\u001b[39m.\u001b[39;49m\u001b[39m__init__\u001b[39;49m(\n\u001b[1;32m    854\u001b[0m         observation_space,\n\u001b[1;32m    855\u001b[0m         action_space,\n\u001b[1;32m    856\u001b[0m         lr_schedule,\n\u001b[1;32m    857\u001b[0m         net_arch,\n\u001b[1;32m    858\u001b[0m         activation_fn,\n\u001b[1;32m    859\u001b[0m         ortho_init,\n\u001b[1;32m    860\u001b[0m         use_sde,\n\u001b[1;32m    861\u001b[0m         log_std_init,\n\u001b[1;32m    862\u001b[0m         full_std,\n\u001b[1;32m    863\u001b[0m         use_expln,\n\u001b[1;32m    864\u001b[0m         squash_output,\n\u001b[1;32m    865\u001b[0m         features_extractor_class,\n\u001b[1;32m    866\u001b[0m         features_extractor_kwargs,\n\u001b[1;32m    867\u001b[0m         share_features_extractor,\n\u001b[1;32m    868\u001b[0m         normalize_images,\n\u001b[1;32m    869\u001b[0m         optimizer_class,\n\u001b[1;32m    870\u001b[0m         optimizer_kwargs,\n\u001b[1;32m    871\u001b[0m     )\n",
      "File \u001b[0;32m/opt/homebrew/lib/python3.11/site-packages/stable_baselines3/common/policies.py:481\u001b[0m, in \u001b[0;36mActorCriticPolicy.__init__\u001b[0;34m(self, observation_space, action_space, lr_schedule, net_arch, activation_fn, ortho_init, use_sde, log_std_init, full_std, use_expln, squash_output, features_extractor_class, features_extractor_kwargs, share_features_extractor, normalize_images, optimizer_class, optimizer_kwargs)\u001b[0m\n\u001b[1;32m    478\u001b[0m \u001b[39mself\u001b[39m\u001b[39m.\u001b[39mortho_init \u001b[39m=\u001b[39m ortho_init\n\u001b[1;32m    480\u001b[0m \u001b[39mself\u001b[39m\u001b[39m.\u001b[39mshare_features_extractor \u001b[39m=\u001b[39m share_features_extractor\n\u001b[0;32m--> 481\u001b[0m \u001b[39mself\u001b[39m\u001b[39m.\u001b[39mfeatures_extractor \u001b[39m=\u001b[39m \u001b[39mself\u001b[39;49m\u001b[39m.\u001b[39;49mmake_features_extractor()\n\u001b[1;32m    482\u001b[0m \u001b[39mself\u001b[39m\u001b[39m.\u001b[39mfeatures_dim \u001b[39m=\u001b[39m \u001b[39mself\u001b[39m\u001b[39m.\u001b[39mfeatures_extractor\u001b[39m.\u001b[39mfeatures_dim\n\u001b[1;32m    483\u001b[0m \u001b[39mif\u001b[39;00m \u001b[39mself\u001b[39m\u001b[39m.\u001b[39mshare_features_extractor:\n",
      "File \u001b[0;32m/opt/homebrew/lib/python3.11/site-packages/stable_baselines3/common/policies.py:120\u001b[0m, in \u001b[0;36mBaseModel.make_features_extractor\u001b[0;34m(self)\u001b[0m\n\u001b[1;32m    118\u001b[0m \u001b[39mdef\u001b[39;00m \u001b[39mmake_features_extractor\u001b[39m(\u001b[39mself\u001b[39m) \u001b[39m-\u001b[39m\u001b[39m>\u001b[39m BaseFeaturesExtractor:\n\u001b[1;32m    119\u001b[0m \u001b[39m    \u001b[39m\u001b[39m\"\"\"Helper method to create a features extractor.\"\"\"\u001b[39;00m\n\u001b[0;32m--> 120\u001b[0m     \u001b[39mreturn\u001b[39;00m \u001b[39mself\u001b[39;49m\u001b[39m.\u001b[39;49mfeatures_extractor_class(\u001b[39mself\u001b[39;49m\u001b[39m.\u001b[39;49mobservation_space, \u001b[39m*\u001b[39;49m\u001b[39m*\u001b[39;49m\u001b[39mself\u001b[39;49m\u001b[39m.\u001b[39;49mfeatures_extractor_kwargs)\n",
      "File \u001b[0;32m/opt/homebrew/lib/python3.11/site-packages/stable_baselines3/common/torch_layers.py:259\u001b[0m, in \u001b[0;36mCombinedExtractor.__init__\u001b[0;34m(self, observation_space, cnn_output_dim, normalized_image)\u001b[0m\n\u001b[1;32m    256\u001b[0m extractors: Dict[\u001b[39mstr\u001b[39m, nn\u001b[39m.\u001b[39mModule] \u001b[39m=\u001b[39m {}\n\u001b[1;32m    258\u001b[0m total_concat_size \u001b[39m=\u001b[39m \u001b[39m0\u001b[39m\n\u001b[0;32m--> 259\u001b[0m \u001b[39mfor\u001b[39;00m key, subspace \u001b[39min\u001b[39;00m observation_space\u001b[39m.\u001b[39;49mspaces\u001b[39m.\u001b[39mitems():\n\u001b[1;32m    260\u001b[0m     \u001b[39mif\u001b[39;00m is_image_space(subspace, normalized_image\u001b[39m=\u001b[39mnormalized_image):\n\u001b[1;32m    261\u001b[0m         extractors[key] \u001b[39m=\u001b[39m NatureCNN(subspace, features_dim\u001b[39m=\u001b[39mcnn_output_dim, normalized_image\u001b[39m=\u001b[39mnormalized_image)\n",
      "\u001b[0;31mAttributeError\u001b[0m: 'Box' object has no attribute 'spaces'"
     ]
    }
   ],
   "source": [
    "import gymnasium as gym\n",
    "from src.env import JokerEnv\n",
    "\n",
    "from stable_baselines3 import A2C\n",
    "\n",
    "env = JokerEnv()\n",
    "model = A2C(\"MultiInputPolicy\", env, verbose=1)\n",
    "model.learn(total_timesteps=10)\n",
    "\n",
    "vec_env = model.get_env()\n",
    "obs = vec_env.reset()\n",
    "for i in range(100):\n",
    "    action, _state = model.predict(obs, deterministic=True)\n",
    "    obs, reward, done, info = vec_env.step(action)\n",
    "    # VecEnv resets automatically\n",
    "    # if done:\n",
    "    #   obs = vec_env.reset()"
   ]
  },
  {
   "cell_type": "code",
   "execution_count": 3,
   "metadata": {},
   "outputs": [
    {
     "ename": "NameError",
     "evalue": "name 'JokerEnv' is not defined",
     "output_type": "error",
     "traceback": [
      "\u001b[0;31m---------------------------------------------------------------------------\u001b[0m",
      "\u001b[0;31mNameError\u001b[0m                                 Traceback (most recent call last)",
      "Cell \u001b[0;32mIn[3], line 2\u001b[0m\n\u001b[1;32m      1\u001b[0m \u001b[39mfrom\u001b[39;00m \u001b[39mgym\u001b[39;00m \u001b[39mimport\u001b[39;00m spaces\n\u001b[0;32m----> 2\u001b[0m env \u001b[39m=\u001b[39m JokerEnv()\n\u001b[1;32m      3\u001b[0m env\u001b[39m.\u001b[39mreset()\n\u001b[1;32m      5\u001b[0m \u001b[39mdef\u001b[39;00m \u001b[39mflatten_obs\u001b[39m(obs):\n",
      "\u001b[0;31mNameError\u001b[0m: name 'JokerEnv' is not defined"
     ]
    }
   ],
   "source": [
    "from gym import spaces\n",
    "from src.env import JokerEnv\n",
    "\n",
    "env = JokerEnv()\n",
    "env.reset()\n",
    "\n",
    "def flatten_obs(obs):\n",
    "    return {'dealt': obs['dealt'],\n",
    "            'wild_suit': obs['wild_suit'],\n",
    "            'player0hand_0': obs['player0hand'][0],\n",
    "            'player0hand_1': obs['player0hand'][1],\n",
    "            'player0hand_2': obs['player0hand'][2],\n",
    "            'player0hand_3': obs['player0hand'][3],\n",
    "            'player0hand_4': obs['player0hand'][4],\n",
    "            'player0hand_5': obs['player0hand'][5],\n",
    "            'player0hand_6': obs['player0hand'][6],\n",
    "            'player0hand_7': obs['player0hand'][7],\n",
    "            'player0hand_8': obs['player0hand'][8],\n",
    "            'player0desired': obs['player0desired'],\n",
    "            'player0taken': obs['player0taken'],\n",
    "            'player1taken': obs['player1taken'],\n",
    "            'player1desired': obs['player1desired'],\n",
    "            'player2taken': obs['player2taken'],\n",
    "            'player2desired': obs['player2desired'],\n",
    "            'player3taken': obs['player3taken'],\n",
    "            'player3desired': obs['player3desired'],\n",
    "            'jokers_remaining': obs['jokers_remaining'],\n",
    "            'first_to_play': obs['first_to_play'],\n",
    "            'first_suit': obs['first_suit'],\n",
    "            'in_play_0': obs['in_play'][0],\n",
    "            'in_play_1': obs['in_play'][1],\n",
    "            'in_play_2': obs['in_play'][2],\n",
    "            'dealer': obs['dealer'],\n",
    "            }\n",
    "\n",
    "flatten_obs(env.game.to_obs())\n",
    "\n",
    "            \n"
   ]
  },
  {
   "cell_type": "code",
   "execution_count": null,
   "metadata": {},
   "outputs": [],
   "source": []
  }
 ],
 "metadata": {
  "kernelspec": {
   "display_name": "Python 3",
   "language": "python",
   "name": "python3"
  },
  "language_info": {
   "codemirror_mode": {
    "name": "ipython",
    "version": 3
   },
   "file_extension": ".py",
   "mimetype": "text/x-python",
   "name": "python",
   "nbconvert_exporter": "python",
   "pygments_lexer": "ipython3",
   "version": "3.11.3"
  },
  "orig_nbformat": 4
 },
 "nbformat": 4,
 "nbformat_minor": 2
}
