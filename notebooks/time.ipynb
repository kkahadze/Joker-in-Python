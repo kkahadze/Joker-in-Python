{
 "cells": [
  {
   "cell_type": "code",
   "execution_count": 1,
   "metadata": {},
   "outputs": [],
   "source": [
    "from src.env import JokerEnv\n",
    "from src.utils import card_to_int\n",
    "from tqdm import tqdm"
   ]
  },
  {
   "cell_type": "code",
   "execution_count": 2,
   "metadata": {},
   "outputs": [],
   "source": [
    "done = False\n",
    "env = JokerEnv()\n",
    "obs = env.reset()\n",
    "while not done:\n",
    "    action = card_to_int(env.game.players[0].play(obs))\n",
    "    obs, reward, done, info = env.step(action)"
   ]
  },
  {
   "attachments": {},
   "cell_type": "markdown",
   "metadata": {},
   "source": [
    "### 100 games"
   ]
  },
  {
   "cell_type": "code",
   "execution_count": 3,
   "metadata": {},
   "outputs": [
    {
     "name": "stderr",
     "output_type": "stream",
     "text": [
      "100%|██████████| 100/100 [00:00<00:00, 178.10it/s]\n"
     ]
    }
   ],
   "source": [
    "for i in tqdm(range(100)):\n",
    "    done = False\n",
    "    env = JokerEnv()\n",
    "    obs = env.reset()\n",
    "    while not done:\n",
    "        action = card_to_int(env.game.players[0].play(obs))\n",
    "        obs, reward, done, info = env.step(action)"
   ]
  },
  {
   "attachments": {},
   "cell_type": "markdown",
   "metadata": {},
   "source": [
    "### 1,000 games"
   ]
  },
  {
   "cell_type": "code",
   "execution_count": 4,
   "metadata": {},
   "outputs": [
    {
     "name": "stderr",
     "output_type": "stream",
     "text": [
      "100%|██████████| 1000/1000 [00:05<00:00, 181.15it/s]\n"
     ]
    }
   ],
   "source": [
    "for i in tqdm(range(1000)):\n",
    "    done = False\n",
    "    env = JokerEnv()\n",
    "    obs = env.reset()\n",
    "    while not done:\n",
    "        action = card_to_int(env.game.players[0].play(obs))\n",
    "        obs, reward, done, info = env.step(action)"
   ]
  },
  {
   "cell_type": "markdown",
   "metadata": {},
   "source": [
    "### 10,000 games"
   ]
  },
  {
   "cell_type": "code",
   "execution_count": 11,
   "metadata": {},
   "outputs": [
    {
     "name": "stderr",
     "output_type": "stream",
     "text": [
      "100%|██████████| 10000/10000 [00:45<00:00, 221.52it/s]\n"
     ]
    }
   ],
   "source": [
    "for i in tqdm(range(10000)):\n",
    "    done = False\n",
    "    env = JokerEnv()\n",
    "    obs = env.reset()\n",
    "    while not done:\n",
    "        action = card_to_int(env.game.players[0].play(obs))\n",
    "        obs, reward, done, info = env.step(action)"
   ]
  },
  {
   "attachments": {},
   "cell_type": "markdown",
   "metadata": {},
   "source": [
    "### 100,000 games"
   ]
  },
  {
   "cell_type": "code",
   "execution_count": 13,
   "metadata": {},
   "outputs": [
    {
     "name": "stderr",
     "output_type": "stream",
     "text": [
      "100%|██████████| 100000/100000 [07:36<00:00, 219.04it/s]\n"
     ]
    }
   ],
   "source": [
    "for i in tqdm(range(100000)):\n",
    "    done = False\n",
    "    env = JokerEnv()\n",
    "    obs = env.reset()\n",
    "    while not done:\n",
    "        action = card_to_int(env.game.players[0].play(obs))\n",
    "        obs, reward, done, info = env.step(action)"
   ]
  },
  {
   "cell_type": "code",
   "execution_count": 4,
   "metadata": {},
   "outputs": [
    {
     "name": "stdout",
     "output_type": "stream",
     "text": [
      "Using cpu device\n",
      "Wrapping the env with a `Monitor` wrapper\n",
      "Wrapping the env in a DummyVecEnv.\n"
     ]
    },
    {
     "ename": "NotImplementedError",
     "evalue": "Nested observation spaces are not supported (Tuple/Dict space inside Tuple/Dict space).",
     "output_type": "error",
     "traceback": [
      "\u001b[0;31m---------------------------------------------------------------------------\u001b[0m",
      "\u001b[0;31mNotImplementedError\u001b[0m                       Traceback (most recent call last)",
      "Cell \u001b[0;32mIn[4], line 4\u001b[0m\n\u001b[1;32m      1\u001b[0m \u001b[39mfrom\u001b[39;00m \u001b[39mstable_baselines3\u001b[39;00m \u001b[39mimport\u001b[39;00m DQN\n\u001b[1;32m      3\u001b[0m env \u001b[39m=\u001b[39m JokerEnv()\n\u001b[0;32m----> 4\u001b[0m model \u001b[39m=\u001b[39m DQN(\u001b[39m\"\u001b[39;49m\u001b[39mMlpPolicy\u001b[39;49m\u001b[39m\"\u001b[39;49m, env, verbose\u001b[39m=\u001b[39;49m\u001b[39m1\u001b[39;49m)\n\u001b[1;32m      5\u001b[0m model\u001b[39m.\u001b[39mlearn(total_timesteps\u001b[39m=\u001b[39m\u001b[39m10000\u001b[39m, log_interval\u001b[39m=\u001b[39m\u001b[39m4\u001b[39m)\n\u001b[1;32m      6\u001b[0m model\u001b[39m.\u001b[39msave(\u001b[39m\"\u001b[39m\u001b[39mdqn_joker0\u001b[39m\u001b[39m\"\u001b[39m)\n",
      "File \u001b[0;32m~/miniforge3/envs/joker/lib/python3.8/site-packages/stable_baselines3/dqn/dqn.py:91\u001b[0m, in \u001b[0;36mDQN.__init__\u001b[0;34m(self, policy, env, learning_rate, buffer_size, learning_starts, batch_size, tau, gamma, train_freq, gradient_steps, replay_buffer_class, replay_buffer_kwargs, optimize_memory_usage, target_update_interval, exploration_fraction, exploration_initial_eps, exploration_final_eps, max_grad_norm, tensorboard_log, create_eval_env, policy_kwargs, verbose, seed, device, _init_setup_model)\u001b[0m\n\u001b[1;32m     62\u001b[0m \u001b[39mdef\u001b[39;00m \u001b[39m__init__\u001b[39m(\n\u001b[1;32m     63\u001b[0m     \u001b[39mself\u001b[39m,\n\u001b[1;32m     64\u001b[0m     policy: Union[\u001b[39mstr\u001b[39m, Type[DQNPolicy]],\n\u001b[0;32m   (...)\u001b[0m\n\u001b[1;32m     88\u001b[0m     _init_setup_model: \u001b[39mbool\u001b[39m \u001b[39m=\u001b[39m \u001b[39mTrue\u001b[39;00m,\n\u001b[1;32m     89\u001b[0m ):\n\u001b[0;32m---> 91\u001b[0m     \u001b[39msuper\u001b[39;49m(DQN, \u001b[39mself\u001b[39;49m)\u001b[39m.\u001b[39;49m\u001b[39m__init__\u001b[39;49m(\n\u001b[1;32m     92\u001b[0m         policy,\n\u001b[1;32m     93\u001b[0m         env,\n\u001b[1;32m     94\u001b[0m         DQNPolicy,\n\u001b[1;32m     95\u001b[0m         learning_rate,\n\u001b[1;32m     96\u001b[0m         buffer_size,\n\u001b[1;32m     97\u001b[0m         learning_starts,\n\u001b[1;32m     98\u001b[0m         batch_size,\n\u001b[1;32m     99\u001b[0m         tau,\n\u001b[1;32m    100\u001b[0m         gamma,\n\u001b[1;32m    101\u001b[0m         train_freq,\n\u001b[1;32m    102\u001b[0m         gradient_steps,\n\u001b[1;32m    103\u001b[0m         action_noise\u001b[39m=\u001b[39;49m\u001b[39mNone\u001b[39;49;00m,  \u001b[39m# No action noise\u001b[39;49;00m\n\u001b[1;32m    104\u001b[0m         replay_buffer_class\u001b[39m=\u001b[39;49mreplay_buffer_class,\n\u001b[1;32m    105\u001b[0m         replay_buffer_kwargs\u001b[39m=\u001b[39;49mreplay_buffer_kwargs,\n\u001b[1;32m    106\u001b[0m         policy_kwargs\u001b[39m=\u001b[39;49mpolicy_kwargs,\n\u001b[1;32m    107\u001b[0m         tensorboard_log\u001b[39m=\u001b[39;49mtensorboard_log,\n\u001b[1;32m    108\u001b[0m         verbose\u001b[39m=\u001b[39;49mverbose,\n\u001b[1;32m    109\u001b[0m         device\u001b[39m=\u001b[39;49mdevice,\n\u001b[1;32m    110\u001b[0m         create_eval_env\u001b[39m=\u001b[39;49mcreate_eval_env,\n\u001b[1;32m    111\u001b[0m         seed\u001b[39m=\u001b[39;49mseed,\n\u001b[1;32m    112\u001b[0m         sde_support\u001b[39m=\u001b[39;49m\u001b[39mFalse\u001b[39;49;00m,\n\u001b[1;32m    113\u001b[0m         optimize_memory_usage\u001b[39m=\u001b[39;49moptimize_memory_usage,\n\u001b[1;32m    114\u001b[0m         supported_action_spaces\u001b[39m=\u001b[39;49m(gym\u001b[39m.\u001b[39;49mspaces\u001b[39m.\u001b[39;49mDiscrete,),\n\u001b[1;32m    115\u001b[0m         support_multi_env\u001b[39m=\u001b[39;49m\u001b[39mTrue\u001b[39;49;00m,\n\u001b[1;32m    116\u001b[0m     )\n\u001b[1;32m    118\u001b[0m     \u001b[39mself\u001b[39m\u001b[39m.\u001b[39mexploration_initial_eps \u001b[39m=\u001b[39m exploration_initial_eps\n\u001b[1;32m    119\u001b[0m     \u001b[39mself\u001b[39m\u001b[39m.\u001b[39mexploration_final_eps \u001b[39m=\u001b[39m exploration_final_eps\n",
      "File \u001b[0;32m~/miniforge3/envs/joker/lib/python3.8/site-packages/stable_baselines3/common/off_policy_algorithm.py:107\u001b[0m, in \u001b[0;36mOffPolicyAlgorithm.__init__\u001b[0;34m(self, policy, env, policy_base, learning_rate, buffer_size, learning_starts, batch_size, tau, gamma, train_freq, gradient_steps, action_noise, replay_buffer_class, replay_buffer_kwargs, optimize_memory_usage, policy_kwargs, tensorboard_log, verbose, device, support_multi_env, create_eval_env, monitor_wrapper, seed, use_sde, sde_sample_freq, use_sde_at_warmup, sde_support, supported_action_spaces)\u001b[0m\n\u001b[1;32m     75\u001b[0m \u001b[39mdef\u001b[39;00m \u001b[39m__init__\u001b[39m(\n\u001b[1;32m     76\u001b[0m     \u001b[39mself\u001b[39m,\n\u001b[1;32m     77\u001b[0m     policy: Type[BasePolicy],\n\u001b[0;32m   (...)\u001b[0m\n\u001b[1;32m    104\u001b[0m     supported_action_spaces: Optional[Tuple[gym\u001b[39m.\u001b[39mspaces\u001b[39m.\u001b[39mSpace, \u001b[39m.\u001b[39m\u001b[39m.\u001b[39m\u001b[39m.\u001b[39m]] \u001b[39m=\u001b[39m \u001b[39mNone\u001b[39;00m,\n\u001b[1;32m    105\u001b[0m ):\n\u001b[0;32m--> 107\u001b[0m     \u001b[39msuper\u001b[39;49m(OffPolicyAlgorithm, \u001b[39mself\u001b[39;49m)\u001b[39m.\u001b[39;49m\u001b[39m__init__\u001b[39;49m(\n\u001b[1;32m    108\u001b[0m         policy\u001b[39m=\u001b[39;49mpolicy,\n\u001b[1;32m    109\u001b[0m         env\u001b[39m=\u001b[39;49menv,\n\u001b[1;32m    110\u001b[0m         policy_base\u001b[39m=\u001b[39;49mpolicy_base,\n\u001b[1;32m    111\u001b[0m         learning_rate\u001b[39m=\u001b[39;49mlearning_rate,\n\u001b[1;32m    112\u001b[0m         policy_kwargs\u001b[39m=\u001b[39;49mpolicy_kwargs,\n\u001b[1;32m    113\u001b[0m         tensorboard_log\u001b[39m=\u001b[39;49mtensorboard_log,\n\u001b[1;32m    114\u001b[0m         verbose\u001b[39m=\u001b[39;49mverbose,\n\u001b[1;32m    115\u001b[0m         device\u001b[39m=\u001b[39;49mdevice,\n\u001b[1;32m    116\u001b[0m         support_multi_env\u001b[39m=\u001b[39;49msupport_multi_env,\n\u001b[1;32m    117\u001b[0m         create_eval_env\u001b[39m=\u001b[39;49mcreate_eval_env,\n\u001b[1;32m    118\u001b[0m         monitor_wrapper\u001b[39m=\u001b[39;49mmonitor_wrapper,\n\u001b[1;32m    119\u001b[0m         seed\u001b[39m=\u001b[39;49mseed,\n\u001b[1;32m    120\u001b[0m         use_sde\u001b[39m=\u001b[39;49muse_sde,\n\u001b[1;32m    121\u001b[0m         sde_sample_freq\u001b[39m=\u001b[39;49msde_sample_freq,\n\u001b[1;32m    122\u001b[0m         supported_action_spaces\u001b[39m=\u001b[39;49msupported_action_spaces,\n\u001b[1;32m    123\u001b[0m     )\n\u001b[1;32m    124\u001b[0m     \u001b[39mself\u001b[39m\u001b[39m.\u001b[39mbuffer_size \u001b[39m=\u001b[39m buffer_size\n\u001b[1;32m    125\u001b[0m     \u001b[39mself\u001b[39m\u001b[39m.\u001b[39mbatch_size \u001b[39m=\u001b[39m batch_size\n",
      "File \u001b[0;32m~/miniforge3/envs/joker/lib/python3.8/site-packages/stable_baselines3/common/base_class.py:163\u001b[0m, in \u001b[0;36mBaseAlgorithm.__init__\u001b[0;34m(self, policy, env, policy_base, learning_rate, policy_kwargs, tensorboard_log, verbose, device, support_multi_env, create_eval_env, monitor_wrapper, seed, use_sde, sde_sample_freq, supported_action_spaces)\u001b[0m\n\u001b[1;32m    160\u001b[0m         \u001b[39mself\u001b[39m\u001b[39m.\u001b[39meval_env \u001b[39m=\u001b[39m maybe_make_env(env, \u001b[39mself\u001b[39m\u001b[39m.\u001b[39mverbose)\n\u001b[1;32m    162\u001b[0m env \u001b[39m=\u001b[39m maybe_make_env(env, \u001b[39mself\u001b[39m\u001b[39m.\u001b[39mverbose)\n\u001b[0;32m--> 163\u001b[0m env \u001b[39m=\u001b[39m \u001b[39mself\u001b[39;49m\u001b[39m.\u001b[39;49m_wrap_env(env, \u001b[39mself\u001b[39;49m\u001b[39m.\u001b[39;49mverbose, monitor_wrapper)\n\u001b[1;32m    165\u001b[0m \u001b[39mself\u001b[39m\u001b[39m.\u001b[39mobservation_space \u001b[39m=\u001b[39m env\u001b[39m.\u001b[39mobservation_space\n\u001b[1;32m    166\u001b[0m \u001b[39mself\u001b[39m\u001b[39m.\u001b[39maction_space \u001b[39m=\u001b[39m env\u001b[39m.\u001b[39maction_space\n",
      "File \u001b[0;32m~/miniforge3/envs/joker/lib/python3.8/site-packages/stable_baselines3/common/base_class.py:207\u001b[0m, in \u001b[0;36mBaseAlgorithm._wrap_env\u001b[0;34m(env, verbose, monitor_wrapper)\u001b[0m\n\u001b[1;32m    205\u001b[0m     \u001b[39mif\u001b[39;00m verbose \u001b[39m>\u001b[39m\u001b[39m=\u001b[39m \u001b[39m1\u001b[39m:\n\u001b[1;32m    206\u001b[0m         \u001b[39mprint\u001b[39m(\u001b[39m\"\u001b[39m\u001b[39mWrapping the env in a DummyVecEnv.\u001b[39m\u001b[39m\"\u001b[39m)\n\u001b[0;32m--> 207\u001b[0m     env \u001b[39m=\u001b[39m DummyVecEnv([\u001b[39mlambda\u001b[39;49;00m: env])\n\u001b[1;32m    209\u001b[0m \u001b[39m# Make sure that dict-spaces are not nested (not supported)\u001b[39;00m\n\u001b[1;32m    210\u001b[0m check_for_nested_spaces(env\u001b[39m.\u001b[39mobservation_space)\n",
      "File \u001b[0;32m~/miniforge3/envs/joker/lib/python3.8/site-packages/stable_baselines3/common/vec_env/dummy_vec_env.py:29\u001b[0m, in \u001b[0;36mDummyVecEnv.__init__\u001b[0;34m(self, env_fns)\u001b[0m\n\u001b[1;32m     27\u001b[0m VecEnv\u001b[39m.\u001b[39m\u001b[39m__init__\u001b[39m(\u001b[39mself\u001b[39m, \u001b[39mlen\u001b[39m(env_fns), env\u001b[39m.\u001b[39mobservation_space, env\u001b[39m.\u001b[39maction_space)\n\u001b[1;32m     28\u001b[0m obs_space \u001b[39m=\u001b[39m env\u001b[39m.\u001b[39mobservation_space\n\u001b[0;32m---> 29\u001b[0m \u001b[39mself\u001b[39m\u001b[39m.\u001b[39mkeys, shapes, dtypes \u001b[39m=\u001b[39m obs_space_info(obs_space)\n\u001b[1;32m     31\u001b[0m \u001b[39mself\u001b[39m\u001b[39m.\u001b[39mbuf_obs \u001b[39m=\u001b[39m OrderedDict([(k, np\u001b[39m.\u001b[39mzeros((\u001b[39mself\u001b[39m\u001b[39m.\u001b[39mnum_envs,) \u001b[39m+\u001b[39m \u001b[39mtuple\u001b[39m(shapes[k]), dtype\u001b[39m=\u001b[39mdtypes[k])) \u001b[39mfor\u001b[39;00m k \u001b[39min\u001b[39;00m \u001b[39mself\u001b[39m\u001b[39m.\u001b[39mkeys])\n\u001b[1;32m     32\u001b[0m \u001b[39mself\u001b[39m\u001b[39m.\u001b[39mbuf_dones \u001b[39m=\u001b[39m np\u001b[39m.\u001b[39mzeros((\u001b[39mself\u001b[39m\u001b[39m.\u001b[39mnum_envs,), dtype\u001b[39m=\u001b[39m\u001b[39mbool\u001b[39m)\n",
      "File \u001b[0;32m~/miniforge3/envs/joker/lib/python3.8/site-packages/stable_baselines3/common/vec_env/util.py:60\u001b[0m, in \u001b[0;36mobs_space_info\u001b[0;34m(obs_space)\u001b[0m\n\u001b[1;32m     46\u001b[0m \u001b[39mdef\u001b[39;00m \u001b[39mobs_space_info\u001b[39m(obs_space: gym\u001b[39m.\u001b[39mspaces\u001b[39m.\u001b[39mSpace) \u001b[39m-\u001b[39m\u001b[39m>\u001b[39m Tuple[List[\u001b[39mstr\u001b[39m], Dict[Any, Tuple[\u001b[39mint\u001b[39m, \u001b[39m.\u001b[39m\u001b[39m.\u001b[39m\u001b[39m.\u001b[39m]], Dict[Any, np\u001b[39m.\u001b[39mdtype]]:\n\u001b[1;32m     47\u001b[0m \u001b[39m    \u001b[39m\u001b[39m\"\"\"\u001b[39;00m\n\u001b[1;32m     48\u001b[0m \u001b[39m    Get dict-structured information about a gym.Space.\u001b[39;00m\n\u001b[1;32m     49\u001b[0m \n\u001b[0;32m   (...)\u001b[0m\n\u001b[1;32m     58\u001b[0m \u001b[39m        dtypes: a dict mapping keys to dtypes.\u001b[39;00m\n\u001b[1;32m     59\u001b[0m \u001b[39m    \"\"\"\u001b[39;00m\n\u001b[0;32m---> 60\u001b[0m     check_for_nested_spaces(obs_space)\n\u001b[1;32m     61\u001b[0m     \u001b[39mif\u001b[39;00m \u001b[39misinstance\u001b[39m(obs_space, gym\u001b[39m.\u001b[39mspaces\u001b[39m.\u001b[39mDict):\n\u001b[1;32m     62\u001b[0m         \u001b[39massert\u001b[39;00m \u001b[39misinstance\u001b[39m(obs_space\u001b[39m.\u001b[39mspaces, OrderedDict), \u001b[39m\"\u001b[39m\u001b[39mDict space must have ordered subspaces\u001b[39m\u001b[39m\"\u001b[39m\n",
      "File \u001b[0;32m~/miniforge3/envs/joker/lib/python3.8/site-packages/stable_baselines3/common/preprocessing.py:214\u001b[0m, in \u001b[0;36mcheck_for_nested_spaces\u001b[0;34m(obs_space)\u001b[0m\n\u001b[1;32m    212\u001b[0m \u001b[39mfor\u001b[39;00m sub_space \u001b[39min\u001b[39;00m sub_spaces:\n\u001b[1;32m    213\u001b[0m     \u001b[39mif\u001b[39;00m \u001b[39misinstance\u001b[39m(sub_space, (spaces\u001b[39m.\u001b[39mDict, spaces\u001b[39m.\u001b[39mTuple)):\n\u001b[0;32m--> 214\u001b[0m         \u001b[39mraise\u001b[39;00m \u001b[39mNotImplementedError\u001b[39;00m(\n\u001b[1;32m    215\u001b[0m             \u001b[39m\"\u001b[39m\u001b[39mNested observation spaces are not supported (Tuple/Dict space inside Tuple/Dict space).\u001b[39m\u001b[39m\"\u001b[39m\n\u001b[1;32m    216\u001b[0m         )\n",
      "\u001b[0;31mNotImplementedError\u001b[0m: Nested observation spaces are not supported (Tuple/Dict space inside Tuple/Dict space)."
     ]
    }
   ],
   "source": [
    "from stable_baselines3 import DQN\n",
    "\n",
    "env = JokerEnv()\n",
    "model = DQN(\"MlpPolicy\", env, verbose=1, device='mps')\n",
    "model.learn(total_timesteps=10000, log_interval=4)\n",
    "model.save(\"dqn_joker0\")\n",
    "\n",
    "del model # remove to demonstrate saving and loading\n",
    "\n",
    "model = DQN.load(\"dqn_joker0\")\n",
    "\n",
    "obs = env.reset()\n",
    "while True:\n",
    "    action, _states = model.predict(obs, deterministic=True)\n",
    "    obs, reward, done, info = env.step(action)\n",
    "    env.render()\n",
    "    if done:\n",
    "      obs = env.reset()"
   ]
  },
  {
   "cell_type": "code",
   "execution_count": null,
   "metadata": {},
   "outputs": [],
   "source": []
  }
 ],
 "metadata": {
  "kernelspec": {
   "display_name": "joker",
   "language": "python",
   "name": "python3"
  },
  "language_info": {
   "codemirror_mode": {
    "name": "ipython",
    "version": 3
   },
   "file_extension": ".py",
   "mimetype": "text/x-python",
   "name": "python",
   "nbconvert_exporter": "python",
   "pygments_lexer": "ipython3",
   "version": "3.8.15"
  },
  "orig_nbformat": 4,
  "vscode": {
   "interpreter": {
    "hash": "cdc063f4d44b012d02b2df32e776cf2ee0fea8ab3bcde8ab945eba56000aba75"
   }
  }
 },
 "nbformat": 4,
 "nbformat_minor": 2
}
